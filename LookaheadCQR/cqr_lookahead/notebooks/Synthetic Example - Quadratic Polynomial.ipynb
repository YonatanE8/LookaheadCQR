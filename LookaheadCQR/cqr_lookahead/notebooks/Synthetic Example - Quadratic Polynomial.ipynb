{
 "cells": [
  {
   "cell_type": "code",
   "execution_count": 1,
   "metadata": {},
   "outputs": [],
   "source": [
    "import torch\n",
    "import numpy as np\n",
    "from sklearn.model_selection import train_test_split\n",
    "from LookaheadCQR.cqr_lookahead.uncertainty import CQR\n",
    "\n",
    "\n",
    "from LookaheadCQR.lookahead.models.lookahead import Lookahead\n",
    "import LookaheadCQR.lookahead.models.uncertainty as uncert\n",
    "import LookaheadCQR.lookahead.models.prediction as pred\n",
    "import LookaheadCQR.lookahead.models.propensity as prop\n",
    "from LookaheadCQR.lookahead.models.models import polyRegression\n",
    "\n",
    "from matplotlib import pyplot as plt\n",
    "from mpl_toolkits.axes_grid1.inset_locator import inset_axes\n",
    "%matplotlib inline\n",
    "np.set_printoptions(precision=3)"
   ]
  },
  {
   "cell_type": "markdown",
   "metadata": {},
   "source": [
    "## Setting the data hyperparameters"
   ]
  },
  {
   "cell_type": "code",
   "execution_count": 2,
   "metadata": {
    "pycharm": {
     "name": "#%%\n"
    }
   },
   "outputs": [],
   "source": [
    "# Random Seed\n",
    "seed = 3\n",
    "\n",
    "# Coefficients of the ground truth polynomial\n",
    "# coeffs[i] denotes the coefficient of x^i th term\n",
    "coeffs = [0.1, 0.5, -0.8]\n",
    "\n",
    "# Number of Training Samples\n",
    "n = 1000\n",
    "\n",
    "# Our input is drawn from the normal distribution\n",
    "# with std = sig and mean = offset\n",
    "sig = 0.5\n",
    "offset = -0.8\n",
    "\n",
    "# std of noise added to the data\n",
    "ns = 0.1\n",
    "\n",
    "# Split ratio for train-test\n",
    "trn_sz = 0.75\n",
    "\n",
    "# Degree of polynomial regressor\n",
    "degree = 2"
   ]
  },
  {
   "cell_type": "markdown",
   "metadata": {},
   "source": [
    "## Defining the ground truth function f*\n",
    "\n",
    "f1*(x) =  -0.8 x<sup>2</sup> + 0.5 x + 0.1\n",
    "\n",
    "f2*(x) =  -0.8 sin(x) + 0.5 sin(x / 2) + 0.1"
   ]
  },
  {
   "cell_type": "code",
   "execution_count": 3,
   "metadata": {
    "pycharm": {
     "name": "#%%\n"
    }
   },
   "outputs": [],
   "source": [
    "class Fstar_parabola():\n",
    "    def __init__(self, coeffs = []):\n",
    "        self.coeffs = coeffs\n",
    "    def fit(self, x, y):\n",
    "        pass\n",
    "    def predict(self, x):\n",
    "        c = self.coeffs[-1]\n",
    "        for i in range(2, len(self.coeffs) + 1):\n",
    "            c = self.coeffs[-i] + c*x\n",
    "        return c.flatten()\n",
    "\n",
    "class Fstar_sin():\n",
    "    def __init__(self, coeffs = []):\n",
    "        self.coeffs = coeffs\n",
    "    def fit(self, x, y):\n",
    "        pass\n",
    "    def predict(self, x):\n",
    "        c = self.coeffs[-1]\n",
    "        for i in range(2, len(self.coeffs) + 1):\n",
    "            c = self.coeffs[-i] + c*np.sin(x / (i - 1))\n",
    "        return c.flatten()\n",
    "\n",
    "class Fstar_exp():\n",
    "    def __init__(self, coeffs = []):\n",
    "        self.coeffs = coeffs\n",
    "    def fit(self, x, y):\n",
    "        pass\n",
    "    def predict(self, x):\n",
    "        c = self.coeffs[-1]\n",
    "        for i in range(2, len(self.coeffs) + 1):\n",
    "            c = self.coeffs[-i] + c*np.exp(x / (i - 1))\n",
    "        return c.flatten()"
   ]
  },
  {
   "cell_type": "code",
   "execution_count": 4,
   "metadata": {
    "pycharm": {
     "name": "#%%\n"
    }
   },
   "outputs": [],
   "source": [
    "np.random.seed(seed)\n",
    "\n",
    "# Pick an f* function\n",
    "fstar = Fstar_parabola(coeffs)"
   ]
  },
  {
   "cell_type": "code",
   "execution_count": 5,
   "metadata": {
    "pycharm": {
     "name": "#%%\n"
    }
   },
   "outputs": [
    {
     "name": "stdout",
     "output_type": "stream",
     "text": [
      "n: 1000 , n_trn: 750 , n_tst: 250\n"
     ]
    }
   ],
   "source": [
    "x = np.random.normal(size = (n, 1), scale = sig) + offset\n",
    "y = fstar.predict(x)\n",
    "y += np.random.normal(scale = ns, size = y.shape)\n",
    "\n",
    "n, d = x.shape\n",
    "x_trn, x_tst, y_trn, y_tst = train_test_split(x, y, test_size = 1 - trn_sz, random_state=seed)\n",
    "n_trn, n_tst = (x_trn.shape[0], x_tst.shape[0])\n",
    "print(\"n:\", n, \", n_trn:\", n_trn, \", n_tst:\", n_tst)\n",
    "xs = [x_trn, x_tst, x]\n",
    "ys = [y_trn, y_tst, y]"
   ]
  },
  {
   "cell_type": "markdown",
   "metadata": {},
   "source": [
    "## Setting the model hyperparamters"
   ]
  },
  {
   "cell_type": "code",
   "execution_count": 6,
   "metadata": {
    "pycharm": {
     "name": "#%%\n"
    }
   },
   "outputs": [
    {
     "name": "stdout",
     "output_type": "stream",
     "text": [
      "mask: [1.]\n"
     ]
    }
   ],
   "source": [
    "# l1/l2 Regularization coefficient\n",
    "alpha = 0.\n",
    "# Lam controls the tradeoff between accuracy and decision improvement\n",
    "lam = 4.\n",
    "\n",
    "\" Hyperparamteres for Lookahead\"\n",
    "# Decision step size\n",
    "eta = 0.8\n",
    "# Number of cycles for training\n",
    "num_cycles = 10\n",
    "# Z-score controls size of confidence intervas\n",
    "z_score = 1.65 # for confiednce intervals (1.28-90%, 1.65=95%)\n",
    "\n",
    "\"\"\" Hyperparameters for Prediction Model\"\"\"\n",
    "# Learning rate\n",
    "lr_f = 0.05\n",
    "# Number of training iterations\n",
    "num_iter_init = 1000\n",
    "num_iter_f = 100\n",
    "num_iter_base = num_iter_init + num_iter_f*num_cycles\n",
    "\n",
    "\"\"\" Hyperparameters for Uncertanity Model\"\"\"\n",
    "#number of bootstrapped models\n",
    "num_gs = 10\n",
    "# Learning rate\n",
    "lr_g = 0.001\n",
    "# Number of training iterations\n",
    "num_iter_g = 5000 #for training g in cycles\n",
    "\n",
    "\"\"\" Mask\"\"\"\n",
    "# mask[i] is 1 if it can be changed for making decisions\n",
    "mask = np.ones(d)\n",
    "print('mask:', mask)"
   ]
  },
  {
   "cell_type": "code",
   "execution_count": 7,
   "metadata": {
    "pycharm": {
     "name": "#%%\n"
    }
   },
   "outputs": [],
   "source": [
    "# Helper functions to print performance\n",
    "def get_perf(model, xs, ys, eta, mask, uncert=False):\n",
    "    perf = {'mse':[], 'mae':[], 'improve':[], 'imprate':[], 'contain':[], 'size':[]}\n",
    "    perf['mse'].append([model.mse(x_,y_) for x_,y_ in zip(xs,ys)])\n",
    "    perf['mae'].append([model.mae(x_,y_) for x_,y_ in zip(xs,ys)])\n",
    "    perf['improve'].append([model.improve(x_,y_,eta,mask) for x_,y_ in zip(xs,ys)])\n",
    "    perf['imprate'].append([model.improve_rate(x_,y_,eta,mask) for x_,y_ in zip(xs,ys)])\n",
    "    if uncert:\n",
    "        xsp = [model.move_points(x_) for x_ in xs]\n",
    "        perf['contain'].append([model.contain(x_)[0] for x_ in [*xsp, x]])\n",
    "        perf['size'].append([model.contain(x_)[1] for x_ in [*xsp, x]])\n",
    "    perf = {k:np.asarray(v) for k,v in zip(perf.keys(),perf.values())}\n",
    "    return perf\n",
    "\n",
    "def print_perf(perf, idx=0, uncert=False):\n",
    "    print('\\ttrn\\ttst\\tall')\n",
    "    print(('mse'+'\\t{:.4f}'*3).format(*perf['mse'][idx,:]))\n",
    "    print(('mae'+'\\t{:.4f}'*3).format(*perf['mae'][idx,:]))\n",
    "    print(('imprv'+'\\t{:.4f}'*3).format(*perf['improve'][idx,:]))\n",
    "    print(('imprt'+'\\t{:.4f}'*3).format(*perf['imprate'][idx,:]))\n",
    "    print()\n",
    "    if uncert:\n",
    "        print('\\ttrn\\'\\ttst\\'\\tall')\n",
    "        print(('contn'+'\\t{:.3f}'*3).format(*perf['contain'][idx,:]))\n",
    "        print(('intrsz'+'\\t{:.3f}'*3).format(*perf['size'][idx,:]))\n",
    "        print()"
   ]
  },
  {
   "cell_type": "markdown",
   "metadata": {},
   "source": [
    "## Training the baseline model with no lookahead regularization"
   ]
  },
  {
   "cell_type": "code",
   "execution_count": 8,
   "metadata": {
    "pycharm": {
     "name": "#%%\n"
    }
   },
   "outputs": [
    {
     "name": "stdout",
     "output_type": "stream",
     "text": [
      "training baseline:\n",
      "t: 0\n",
      "[f] mse: 0.0105, la_reg: 0.0000, norm_reg: 0.0000, obj: 0.0105\n",
      "[f] improve*: 1.086\n",
      "\n",
      "\ttrn\ttst\tall\n",
      "mse\t0.0105\t0.0093\t0.0102\n",
      "mae\t0.0823\t0.0765\t0.0808\n",
      "imprv\t1.0863\t1.1010\t1.0900\n",
      "imprt\t0.9707\t0.9760\t0.9720\n",
      "\n"
     ]
    }
   ],
   "source": [
    "# train baseline\n",
    "verbose = True\n",
    "\n",
    "print('training baseline:')\n",
    "f_model = polyRegression(1, 1, degree)\n",
    "f_base = pred.PredModel(d, model=f_model, reg_type='none', alpha=alpha, lr=lr_f, num_iter_init=num_iter_base)\n",
    "model_base = Lookahead(f_base, None, None, lam=0., eta=eta, mask=mask, ground_truth_model=fstar)\n",
    "_, _ = model_base.train(x_trn, y_trn, num_cycles=0, random_state=seed, verbose=verbose)\n",
    "\n",
    "perf_base = get_perf(model_base, xs, ys, eta, mask)\n",
    "print_perf(perf_base)"
   ]
  },
  {
   "cell_type": "markdown",
   "metadata": {},
   "source": [
    "## Training the paper's lookahead model"
   ]
  },
  {
   "cell_type": "code",
   "execution_count": 9,
   "metadata": {
    "pycharm": {
     "name": "#%%\n"
    }
   },
   "outputs": [
    {
     "name": "stdout",
     "output_type": "stream",
     "text": [
      "Training lookahead:\n",
      "t: 0\n",
      "[f] mse: 0.0108, la_reg: 0.0000, norm_reg: 0.0000, obj: 0.0108\n",
      "[f] improve*: 1.091\n",
      "\n",
      "t: 1\n",
      "[h] n_eff: 1.43, w_sum: 3110.46\n",
      "[u] loss: 0.0031, norm_reg: 0.0000, obj: 0.0031\n",
      "[u] size: 0.563, contain*: 1.000\n",
      "[f] mse: 0.0339, la_reg: 0.0661, norm_reg: 0.0000, obj: 0.2984\n",
      "[f] improve*: 0.956\n",
      "\n",
      "t: 2\n",
      "[h] n_eff: 1.55, w_sum: 452.80\n",
      "[u] loss: 0.0040, norm_reg: 0.0000, obj: 0.0040\n",
      "[u] size: 0.491, contain*: 1.000\n",
      "[f] mse: 0.0419, la_reg: 0.0565, norm_reg: 0.0000, obj: 0.2680\n",
      "[f] improve*: 0.950\n",
      "\n",
      "t: 3\n",
      "[h] n_eff: 1.55, w_sum: 542.11\n",
      "[u] loss: 0.0040, norm_reg: 0.0000, obj: 0.0040\n",
      "[u] size: 0.492, contain*: 0.989\n",
      "[f] mse: 0.0488, la_reg: 0.0523, norm_reg: 0.0000, obj: 0.2579\n",
      "[f] improve*: 0.941\n",
      "\n",
      "t: 4\n",
      "[h] n_eff: 1.56, w_sum: 800.42\n",
      "[u] loss: 0.0041, norm_reg: 0.0000, obj: 0.0041\n",
      "[u] size: 0.496, contain*: 0.899\n",
      "[f] mse: 0.0547, la_reg: 0.0495, norm_reg: 0.0000, obj: 0.2529\n",
      "[f] improve*: 0.930\n",
      "\n",
      "t: 5\n",
      "[h] n_eff: 1.58, w_sum: 1032.03\n",
      "[u] loss: 0.0042, norm_reg: 0.0000, obj: 0.0042\n",
      "[u] size: 0.498, contain*: 0.843\n",
      "[f] mse: 0.0592, la_reg: 0.0476, norm_reg: 0.0000, obj: 0.2496\n",
      "[f] improve*: 0.920\n",
      "\n",
      "t: 6\n",
      "[h] n_eff: 1.62, w_sum: 1184.85\n",
      "[u] loss: 0.0045, norm_reg: 0.0000, obj: 0.0045\n",
      "[u] size: 0.501, contain*: 0.809\n",
      "[f] mse: 0.0625, la_reg: 0.0462, norm_reg: 0.0000, obj: 0.2472\n",
      "[f] improve*: 0.913\n",
      "\n",
      "t: 7\n",
      "[h] n_eff: 1.65, w_sum: 1263.96\n",
      "[u] loss: 0.0047, norm_reg: 0.0000, obj: 0.0047\n",
      "[u] size: 0.502, contain*: 0.780\n",
      "[f] mse: 0.0645, la_reg: 0.0453, norm_reg: 0.0000, obj: 0.2457\n",
      "[f] improve*: 0.909\n",
      "\n",
      "t: 8\n",
      "[h] n_eff: 1.67, w_sum: 1314.19\n",
      "[u] loss: 0.0048, norm_reg: 0.0000, obj: 0.0048\n",
      "[u] size: 0.504, contain*: 0.769\n",
      "[f] mse: 0.0657, la_reg: 0.0447, norm_reg: 0.0000, obj: 0.2447\n",
      "[f] improve*: 0.907\n",
      "\n",
      "t: 9\n",
      "[h] n_eff: 1.69, w_sum: 1338.27\n",
      "[u] loss: 0.0049, norm_reg: 0.0000, obj: 0.0049\n",
      "[u] size: 0.505, contain*: 0.764\n",
      "[f] mse: 0.0663, la_reg: 0.0445, norm_reg: 0.0000, obj: 0.2441\n",
      "[f] improve*: 0.906\n",
      "\n",
      "t: 10\n",
      "[h] n_eff: 1.70, w_sum: 1354.97\n",
      "[u] loss: 0.0050, norm_reg: 0.0000, obj: 0.0050\n",
      "[u] size: 0.506, contain*: 0.763\n",
      "[f] mse: 0.0667, la_reg: 0.0443, norm_reg: 0.0000, obj: 0.2438\n",
      "[f] improve*: 0.906\n",
      "\n"
     ]
    }
   ],
   "source": [
    "# train our model\n",
    "verbose = True\n",
    "\n",
    "print('Training lookahead:')\n",
    "f_model = polyRegression(1, 1, degree)\n",
    "g_model = polyRegression(1, 1, degree)\n",
    "\n",
    "f = pred.PredModel(d, model = f_model, reg_type='none', alpha=0., lr=lr_f, num_iter=num_iter_f, num_iter_init=num_iter_init)\n",
    "u = uncert.Bootstrap(d, model = g_model, alpha=0., num_gs=num_gs, z_score=z_score, lr=lr_g, num_iter=num_iter_g)\n",
    "h = prop.PropModel(random_state=seed)\n",
    "model = Lookahead(f, u, h, lam=lam, eta=eta, mask=mask, ground_truth_model=fstar)\n",
    "_, _ = model.train(x_trn, y_trn, num_cycles=num_cycles, random_state=seed, verbose=verbose)"
   ]
  },
  {
   "cell_type": "markdown",
   "metadata": {},
   "source": [
    "## Training our CQR + lookahead model"
   ]
  },
  {
   "cell_type": "code",
   "execution_count": 10,
   "metadata": {
    "pycharm": {
     "name": "#%%\n"
    }
   },
   "outputs": [
    {
     "name": "stdout",
     "output_type": "stream",
     "text": [
      "Training lookahead:\n",
      "t: 0\n",
      "[f] mse: 0.0108, la_reg: 0.0000, norm_reg: 0.0000, obj: 0.0108\n",
      "[f] improve*: 1.091\n",
      "\n",
      "t: 1\n",
      "[h] n_eff: 1.43, w_sum: 3110.46\n",
      "[u] loss: 0.0597, norm_reg: 0.0000, obj: 0.0597\n",
      "[u] size: 0.967, contain*: 0.953\n",
      "[f] mse: 0.0261, la_reg: 0.0173, norm_reg: 0.0000, obj: 0.0955\n",
      "[f] improve*: 0.956\n",
      "\n",
      "t: 2\n",
      "[h] n_eff: 1.55, w_sum: 842.64\n",
      "[u] loss: 0.0372, norm_reg: 0.0000, obj: 0.0372\n",
      "[u] size: 1.293, contain*: 0.841\n",
      "[f] mse: 0.0278, la_reg: 0.0453, norm_reg: 0.0000, obj: 0.2091\n",
      "[f] improve*: 0.946\n",
      "\n",
      "t: 3\n",
      "[h] n_eff: 1.56, w_sum: 809.81\n",
      "[u] loss: 0.0377, norm_reg: 0.0000, obj: 0.0377\n",
      "[u] size: 1.323, contain*: 0.947\n",
      "[f] mse: 0.0109, la_reg: 0.0771, norm_reg: 0.0000, obj: 0.3195\n",
      "[f] improve*: 1.093\n",
      "\n",
      "t: 4\n",
      "[h] n_eff: 1.43, w_sum: 3176.23\n",
      "[u] loss: 0.0352, norm_reg: 0.0000, obj: 0.0352\n",
      "[u] size: 1.143, contain*: 1.000\n",
      "[f] mse: 0.0219, la_reg: 0.0782, norm_reg: 0.0000, obj: 0.3348\n",
      "[f] improve*: 1.159\n",
      "\n",
      "t: 5\n",
      "[h] n_eff: 1.36, w_sum: 11585.18\n",
      "[u] loss: 0.0362, norm_reg: 0.0000, obj: 0.0362\n",
      "[u] size: 0.871, contain*: 1.000\n",
      "[f] mse: 0.0223, la_reg: 0.0529, norm_reg: 0.0000, obj: 0.2339\n",
      "[f] improve*: 1.159\n",
      "\n",
      "t: 6\n",
      "[h] n_eff: 1.36, w_sum: 11963.58\n",
      "[u] loss: 0.0312, norm_reg: 0.0000, obj: 0.0312\n",
      "[u] size: 1.078, contain*: 1.000\n",
      "[f] mse: 0.0808, la_reg: 0.0919, norm_reg: 0.0000, obj: 0.4482\n",
      "[f] improve*: 1.174\n",
      "\n",
      "t: 7\n",
      "[h] n_eff: 1.33, w_sum: 71895.31\n",
      "[u] loss: 0.0335, norm_reg: 0.0000, obj: 0.0335\n",
      "[u] size: 0.771, contain*: 1.000\n",
      "[f] mse: 0.0369, la_reg: 0.0561, norm_reg: 0.0000, obj: 0.2614\n",
      "[f] improve*: 1.174\n",
      "\n",
      "t: 8\n",
      "[h] n_eff: 1.35, w_sum: 23457.91\n",
      "[u] loss: 0.0339, norm_reg: 0.0000, obj: 0.0339\n",
      "[u] size: 0.962, contain*: 1.000\n",
      "[f] mse: 0.0880, la_reg: 0.0734, norm_reg: 0.0000, obj: 0.3818\n",
      "[f] improve*: 1.170\n",
      "\n",
      "t: 9\n",
      "[h] n_eff: 1.34, w_sum: 76149.81\n",
      "[u] loss: 0.0404, norm_reg: 0.0000, obj: 0.0404\n",
      "[u] size: 0.755, contain*: 1.000\n",
      "[f] mse: 0.0612, la_reg: 0.0660, norm_reg: 0.0000, obj: 0.3251\n",
      "[f] improve*: 1.178\n",
      "\n",
      "t: 10\n",
      "[h] n_eff: 1.34, w_sum: 47190.97\n",
      "[u] loss: 0.0281, norm_reg: 0.0000, obj: 0.0281\n",
      "[u] size: 0.767, contain*: 1.000\n",
      "[f] mse: 0.0647, la_reg: 0.0558, norm_reg: 0.0000, obj: 0.2879\n",
      "[f] improve*: 1.178\n",
      "\n"
     ]
    }
   ],
   "source": [
    "# train our model\n",
    "verbose = True\n",
    "\n",
    "print('Training lookahead:')\n",
    "f_model = polyRegression(1, 1, degree)\n",
    "\n",
    "f = pred.PredModel(d, model = f_model, reg_type='none', alpha=0., lr=lr_f, num_iter=num_iter_f, num_iter_init=num_iter_init)\n",
    "u = CQR(d, tau=(0.05, 0.95), lr=lr_g, num_iter=num_iter_g)\n",
    "h = prop.PropModel(random_state=seed)\n",
    "nn_cqr_model = Lookahead(f, u, h, lam=lam, eta=eta, mask=mask, ground_truth_model=fstar)\n",
    "_, _ = nn_cqr_model.train(x_trn, y_trn, num_cycles=num_cycles, random_state=seed, verbose=verbose)"
   ]
  },
  {
   "cell_type": "markdown",
   "metadata": {},
   "source": [
    "## Comparing the performance of all models"
   ]
  },
  {
   "cell_type": "code",
   "execution_count": 11,
   "metadata": {
    "pycharm": {
     "name": "#%%\n"
    }
   },
   "outputs": [
    {
     "name": "stdout",
     "output_type": "stream",
     "text": [
      "\n",
      "Baseline Model:\n",
      "\ttrn\ttst\tall\n",
      "mse\t0.0105\t0.0093\t0.0102\n",
      "mae\t0.0823\t0.0765\t0.0808\n",
      "imprv\t1.0863\t1.1010\t1.0900\n",
      "imprt\t0.9707\t0.9760\t0.9720\n",
      "\n",
      "Lookahead Model:\n",
      "\ttrn\ttst\tall\n",
      "mse\t0.0667\t0.0486\t0.0622\n",
      "mae\t0.1792\t0.1603\t0.1745\n",
      "imprv\t0.9058\t0.9330\t0.9126\n",
      "imprt\t0.7560\t0.7680\t0.7590\n",
      "\n",
      "\ttrn'\ttst'\tall\n",
      "contn\t0.761\t0.772\t0.764\n",
      "intrsz\t0.506\t0.508\t0.507\n",
      "\n",
      "Lookahead+CQR Model:\n",
      "\ttrn\ttst\tall\n",
      "mse\t0.0647\t0.0630\t0.0643\n",
      "mae\t0.2024\t0.2003\t0.2019\n",
      "imprv\t1.1785\t1.1948\t1.1825\n",
      "imprt\t0.9707\t0.9760\t0.9720\n",
      "\n",
      "\ttrn'\ttst'\tall\n",
      "contn\t1.000\t1.000\t1.000\n",
      "intrsz\t0.757\t0.759\t0.759\n",
      "\n"
     ]
    }
   ],
   "source": [
    "perf_base = get_perf(model_base, xs, ys, eta, mask)\n",
    "perf_la = get_perf(model, xs, ys, eta, mask, uncert=True)\n",
    "perf_la_cqr = get_perf(nn_cqr_model, xs, ys, eta, mask, uncert=True)\n",
    "\n",
    "print('\\nBaseline Model:')\n",
    "print_perf(perf_base)\n",
    "print('Lookahead Model:')\n",
    "print_perf(perf_la, uncert=True)\n",
    "print('Lookahead+CQR Model:')\n",
    "print_perf(perf_la_cqr, uncert=True)"
   ]
  },
  {
   "cell_type": "markdown",
   "metadata": {},
   "source": [
    "## Plotting the results\n",
    "The main plot shows the predictions generated by the lookahead model.  The inlay plot shows the performance of the baseline classifier"
   ]
  },
  {
   "cell_type": "code",
   "execution_count": 12,
   "metadata": {
    "pycharm": {
     "name": "#%%\n"
    }
   },
   "outputs": [],
   "source": [
    "# Helper function for plotting\n",
    "def plot_quad(ax, M, x, y, x_plot, y_plot, eta, mask, color, lw=1, osz=50, olw=1,\n",
    "              fill_between_color = 'g'):\n",
    "    x_plot_th = torch.from_numpy(x_plot.astype(np.float32))\n",
    "    ax.plot(x_plot, y_plot, '--', color=\"tab:orange\", linewidth =1.0, label =\"gt\", alpha=0.6)\n",
    "\n",
    "    f_pred = M.f.predict(x_plot)\n",
    "    ax.plot(x_plot, f_pred, label=\"f\", linewidth=lw, alpha=0.6)\n",
    "\n",
    "    if M.u is not None:\n",
    "        u_pred, l_pred = M.u.lu(x_plot_th)\n",
    "        u_pred = u_pred.detach().numpy()\n",
    "        l_pred = l_pred.detach().numpy()\n",
    "        ax.fill_between(x_plot.flatten(), u_pred.flatten(), l_pred.flatten(),\n",
    "                        color=fill_between_color, alpha=0.05, zorder=0)\n",
    "        ax.plot(x_plot.flatten(), u_pred.flatten(), f\"tab:{color}\", linewidth=1.0, alpha=0.5, zorder=0)\n",
    "        ax.plot(x_plot.flatten(), l_pred.flatten(), f\"tab:{color}\", linewidth=1.0, alpha=0.5, zorder=0)\n",
    "\n",
    "    xp = M.move_points(x, eta, mask)\n",
    "    ypstar = M.fstar.predict(xp)\n",
    "    ax.scatter(x, y, color=\"white\", edgecolor=\"tab:blue\", alpha = 1, s=osz, zorder=10, linewidth=olw)\n",
    "    ax.scatter(xp, ypstar, color=\"white\", edgecolor=\"tab:red\", alpha = 1, s=osz, zorder=10, linewidth=olw)\n",
    "\n",
    "    ax.set_xticks([])\n",
    "    ax.set_yticks([])"
   ]
  },
  {
   "cell_type": "code",
   "execution_count": 13,
   "metadata": {
    "pycharm": {
     "name": "#%%\n"
    }
   },
   "outputs": [
    {
     "data": {
      "image/png": "[encoded data removed]",
      "text/plain": [
       "<Figure size 432x324 with 2 Axes>"
      ]
     },
     "metadata": {},
     "output_type": "display_data"
    }
   ],
   "source": [
    "plt.rcParams['figure.figsize'] = (6.0, 4.5)\n",
    "x_plot = np.linspace(-3.0, 3.0, 1000)[:, np.newaxis]\n",
    "y_plot = fstar.predict(x_plot)\n",
    "\n",
    "ax = plt.axes()\n",
    "axins = inset_axes(ax, width=\"40%\", height=\"40%\", loc=4)\n",
    "plot_quad(axins, model_base, x, y, x_plot, y_plot, eta, mask, osz=10, olw=0.5,\n",
    "          color='green')\n",
    "axins.set_xlim([-2, 3.3])\n",
    "axins.set_ylim([-7, 1.0])\n",
    "\n",
    "plot_quad(ax, model, x, y, x_plot, y_plot, eta, mask, lw=2, color='green')\n",
    "ax.set_xlim([-2.2, 2.2])\n",
    "ax.set_ylim([-4, 1])\n",
    "plt.title(r'$\\eta={}$'.format(eta))\n",
    "\n",
    "plot_quad(ax, nn_cqr_model, x, y, x_plot, y_plot, eta, mask, lw=2, color='purple',\n",
    "          fill_between_color='m')\n",
    "ax.set_xlim([-2.2, 2.2])\n",
    "ax.set_ylim([-4, 1])\n",
    "plt.title(r'$\\eta={}$'.format(eta))\n",
    "\n",
    "ax.legend(\n",
    "    [\n",
    "        r'$f^*$',\n",
    "        r'$f$',\n",
    "        r'$Lookahead$',\n",
    "        r'$Lookahead + CQR$',\n",
    "        r'$(x,y)$',\n",
    "        r\"$(x',y')$\"\n",
    "    ],\n",
    "    fontsize=8,\n",
    ")\n",
    "plt.show()"
   ]
  }
 ],
 "metadata": {
  "kernelspec": {
   "display_name": "Python 3",
   "language": "python",
   "name": "python3"
  },
  "language_info": {
   "codemirror_mode": {
    "name": "ipython",
    "version": 3
   },
   "file_extension": ".py",
   "mimetype": "text/x-python",
   "name": "python",
   "nbconvert_exporter": "python",
   "pygments_lexer": "ipython3",
   "version": "3.8.3"
  }
 },
 "nbformat": 4,
 "nbformat_minor": 1
}